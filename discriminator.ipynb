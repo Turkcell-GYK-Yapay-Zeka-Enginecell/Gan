{
 "cells": [
  {
   "cell_type": "code",
   "execution_count": 1,
   "id": "d1833d3c-39cb-4d65-97f2-a4ee143670d8",
   "metadata": {},
   "outputs": [],
   "source": [
    "from torch import nn\n",
    "\n",
    "class Discriminator(nn.Module):\n",
    "    def __init__(self):\n",
    "        super().__init__()\n",
    "        self.net = nn.Sequential(\n",
    "            nn.Flatten(),                              # [B, 1, 28, 28] → [B, 784]\n",
    "\n",
    "            nn.Linear(784, 1024),                      # Geniş katman\n",
    "            nn.LeakyReLU(0.2),\n",
    "            nn.Dropout(0.3),                           # Overfitting'i azaltır\n",
    "            nn.BatchNorm1d(1024),                      # Normalize eder, öğrenmeyi hızlandırır\n",
    "\n",
    "            nn.Linear(1024, 512),\n",
    "            nn.LeakyReLU(0.2),\n",
    "            nn.Dropout(0.3),\n",
    "            nn.BatchNorm1d(512),\n",
    "\n",
    "            nn.Linear(512, 256),\n",
    "            nn.LeakyReLU(0.2),\n",
    "            nn.Dropout(0.3),\n",
    "\n",
    "            nn.Linear(256, 64),\n",
    "            nn.LeakyReLU(0.2),\n",
    "\n",
    "            nn.Linear(64, 1),\n",
    "            nn.Sigmoid()                               # 0-1 arası olasılık çıktısı\n",
    "        )\n",
    "\n",
    "    def forward(self, x):\n",
    "        return self.net(x)\n"
   ]
  },
  {
   "cell_type": "code",
   "execution_count": null,
   "id": "7714ddb4-15b5-41fc-9a3d-82f335621d0a",
   "metadata": {},
   "outputs": [],
   "source": []
  }
 ],
 "metadata": {
  "kernelspec": {
   "display_name": "DeepLearning",
   "language": "python",
   "name": "deeplearning"
  },
  "language_info": {
   "codemirror_mode": {
    "name": "ipython",
    "version": 3
   },
   "file_extension": ".py",
   "mimetype": "text/x-python",
   "name": "python",
   "nbconvert_exporter": "python",
   "pygments_lexer": "ipython3",
   "version": "3.12.3"
  }
 },
 "nbformat": 4,
 "nbformat_minor": 5
}
