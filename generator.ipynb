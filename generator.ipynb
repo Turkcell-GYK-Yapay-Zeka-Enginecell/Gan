{
 "cells": [
  {
   "cell_type": "code",
   "execution_count": 1,
   "id": "1dcdf9af-8557-4767-8f86-23e78fb6b46c",
   "metadata": {},
   "outputs": [],
   "source": [
    "from torch import nn # neural network\n",
    "\n",
    "class Generator(nn.Module): #Kalıtım\n",
    "    def __init__(self):\n",
    "        super().__init__() #Pytorch base NN'ü kendi kodlarını çalıştır.\n",
    "        self.net = nn.Sequential(\n",
    "            nn.Linear(100,256),\n",
    "            nn.ReLU(True),\n",
    "            nn.Linear(256,512),\n",
    "            nn.ReLU(True),\n",
    "            nn.Linear(512, 1024),\n",
    "            nn.ReLU(True),\n",
    "            nn.Linear(1024, 28*28),\n",
    "            nn.Tanh() # Çıktıyı -1 ile 1 aralığına getir.\n",
    "        )\n",
    "    \n",
    "    #İleri besleme\n",
    "    def forward(self, x):\n",
    "        return self.net(x).view(-1, 1, 28, 28) # 28x28 lik görsel üretiyoruz. Katmandan geçtikten sonra."
   ]
  }
 ],
 "metadata": {
  "kernelspec": {
   "display_name": "DeepLearning",
   "language": "python",
   "name": "deeplearning"
  },
  "language_info": {
   "codemirror_mode": {
    "name": "ipython",
    "version": 3
   },
   "file_extension": ".py",
   "mimetype": "text/x-python",
   "name": "python",
   "nbconvert_exporter": "python",
   "pygments_lexer": "ipython3",
   "version": "3.12.3"
  }
 },
 "nbformat": 4,
 "nbformat_minor": 5
}
